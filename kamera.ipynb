{
 "cells": [
  {
   "cell_type": "code",
   "execution_count": null,
   "id": "c4aeb911",
   "metadata": {},
   "outputs": [],
   "source": [
    "import cv2\n",
    "import numpy as np\n",
    "import matplotlib.pyplot as plt"
   ]
  },
  {
   "cell_type": "markdown",
   "id": "460d8010",
   "metadata": {},
   "source": [
    "## Kamera Stream in eigenem Fenster anzeigen lassen"
   ]
  },
  {
   "cell_type": "code",
   "execution_count": null,
   "id": "31406c62",
   "metadata": {},
   "outputs": [],
   "source": [
    "# Die Zahl gibt an, welcher Kamera-Stream geoeffnet wird.\n",
    "# Falls der falsche/kein Kamera Stream geoeffnet wird diese Zahl Anpassen\n",
    "cap = cv2.VideoCapture(0)\n",
    "\n",
    "if not cap.isOpened():\n",
    "    raise IOError(\"Kamera kann nicht geoffnet werden!\")\n",
    "\n",
    "while True:\n",
    "    ret, frame = cap.read()\n",
    "    cv2.imshow('Kamerastream', frame)\n",
    "\n",
    "    # Schliesst das Programm, wenn ESC gedrückt wird\n",
    "    c = cv2.waitKey(1)\n",
    "    if c == 27:\n",
    "        break\n",
    "\n",
    "cap.release()\n",
    "cv2.destroyAllWindows()"
   ]
  },
  {
   "cell_type": "markdown",
   "id": "5a2d3fa0",
   "metadata": {},
   "source": [
    "## Aunahme eines einzelnen Bildes mit der Kamera"
   ]
  },
  {
   "cell_type": "code",
   "execution_count": null,
   "id": "6366377c",
   "metadata": {},
   "outputs": [],
   "source": [
    "cap = cv2.VideoCapture(0)\n",
    "if not cap.isOpened():\n",
    "    raise IOError(\"Kamera kann nicht geoffnet werden!\")\n",
    "ret, frame = cap.read()\n",
    "cap.release()"
   ]
  },
  {
   "cell_type": "code",
   "execution_count": null,
   "id": "eaec7d17",
   "metadata": {
    "scrolled": true
   },
   "outputs": [],
   "source": [
    "plt.imshow(frame)"
   ]
  },
  {
   "cell_type": "markdown",
   "id": "6f92375e",
   "metadata": {},
   "source": [
    "## Grayscale Image aufnehmen"
   ]
  },
  {
   "cell_type": "code",
   "execution_count": null,
   "id": "d30b5fe2",
   "metadata": {},
   "outputs": [],
   "source": [
    "cap = cv2.VideoCapture(0)\n",
    "if not cap.isOpened():\n",
    "    raise IOError(\"Kamera kann nicht geoffnet werden!\")\n",
    "ret, frame = cap.read()\n",
    "cap.release()\n",
    "gray = cv2.cvtColor(frame, cv2.COLOR_BGR2GRAY)\n",
    "array = np.array(gray)"
   ]
  },
  {
   "cell_type": "code",
   "execution_count": null,
   "id": "d4f3399a",
   "metadata": {
    "scrolled": true
   },
   "outputs": [],
   "source": [
    "plt.imshow(array)"
   ]
  },
  {
   "cell_type": "code",
   "execution_count": null,
   "id": "54122b76",
   "metadata": {},
   "outputs": [],
   "source": [
    "def take_pic():\n",
    "    cap = cv2.VideoCapture(0)\n",
    "    if not cap.isOpened():\n",
    "        raise IOError(\"Kamera kann nicht geoffnet werden!\")\n",
    "    ret, frame = cap.read()\n",
    "    cap.release()\n",
    "    gray = cv2.cvtColor(frame, cv2.COLOR_BGR2GRAY)\n",
    "    array = np.array(gray)\n",
    "    return array"
   ]
  },
  {
   "cell_type": "code",
   "execution_count": null,
   "id": "6fbf1dd8",
   "metadata": {},
   "outputs": [],
   "source": [
    "plt.imshow(take_pic())"
   ]
  },
  {
   "cell_type": "code",
   "execution_count": null,
   "id": "78ac25c5",
   "metadata": {},
   "outputs": [],
   "source": [
    "plt.plot(np.sum(take_pic(),axis=1))"
   ]
  },
  {
   "cell_type": "code",
   "execution_count": null,
   "id": "567e64e3",
   "metadata": {},
   "outputs": [],
   "source": []
  }
 ],
 "metadata": {
  "kernelspec": {
   "display_name": "Python 3 (ipykernel)",
   "language": "python",
   "name": "python3"
  },
  "language_info": {
   "codemirror_mode": {
    "name": "ipython",
    "version": 3
   },
   "file_extension": ".py",
   "mimetype": "text/x-python",
   "name": "python",
   "nbconvert_exporter": "python",
   "pygments_lexer": "ipython3",
   "version": "3.7.4"
  },
  "toc": {
   "base_numbering": 1,
   "nav_menu": {},
   "number_sections": true,
   "sideBar": true,
   "skip_h1_title": false,
   "title_cell": "Table of Contents",
   "title_sidebar": "Contents",
   "toc_cell": false,
   "toc_position": {},
   "toc_section_display": true,
   "toc_window_display": false
  },
  "varInspector": {
   "cols": {
    "lenName": 16,
    "lenType": 16,
    "lenVar": 40
   },
   "kernels_config": {
    "python": {
     "delete_cmd_postfix": "",
     "delete_cmd_prefix": "del ",
     "library": "var_list.py",
     "varRefreshCmd": "print(var_dic_list())"
    },
    "r": {
     "delete_cmd_postfix": ") ",
     "delete_cmd_prefix": "rm(",
     "library": "var_list.r",
     "varRefreshCmd": "cat(var_dic_list()) "
    }
   },
   "types_to_exclude": [
    "module",
    "function",
    "builtin_function_or_method",
    "instance",
    "_Feature"
   ],
   "window_display": false
  }
 },
 "nbformat": 4,
 "nbformat_minor": 5
}
